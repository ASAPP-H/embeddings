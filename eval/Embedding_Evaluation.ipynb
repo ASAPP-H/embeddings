{
 "cells": [
  {
   "cell_type": "markdown",
   "metadata": {},
   "source": [
    "This workbook reproduces the results of Tables 4 and 5 of the paper:\n",
    "\n",
    "<b> Y. Choi, Y. Chiu, D. Sontag. <a href=\"http://cs.nyu.edu/~dsontag/papers/ChoiChiuSontag_AMIA_CRI16.pdf\">Learning Low-Dimensional Representations of Medical Concepts</a>. To appear in Proceedings of the AMIA Summit on Clinical Research Informatics (CRI), 2016.</b>\n",
    "\n",
    "Note that the numbers will be slightly different because the embeddings evaluated here are a subset of the original embeddings, so the intersection of the concepts is slightly larger."
   ]
  },
  {
   "cell_type": "code",
   "execution_count": 1,
   "metadata": {},
   "outputs": [],
   "source": [
    "# do from the raw process to the result\n",
    "# fully documenting the result\n",
    "\n",
    "from ndfrt_analysis import *\n",
    "from codes_analysis import *"
   ]
  },
  {
   "cell_type": "code",
   "execution_count": 2,
   "metadata": {},
   "outputs": [],
   "source": [
    "filenames_file = 'files_to_process.txt'\n",
    "num_of_nn = 40\n",
    "num_of_cores = 4\n",
    "filenames = []\n",
    "with open(filenames_file, 'r') as infile:\n",
    "    data = infile.readlines()\n",
    "    for row in data:\n",
    "        filenames.append(row.strip())"
   ]
  },
  {
   "cell_type": "code",
   "execution_count": 3,
   "metadata": {},
   "outputs": [
    {
     "ename": "FileNotFoundError",
     "evalue": "[Errno 2] No such file or directory: '../DeVine_etal_200.txt'",
     "output_type": "error",
     "traceback": [
      "\u001b[0;31m---------------------------------------------------------------------------\u001b[0m",
      "\u001b[0;31mFileNotFoundError\u001b[0m                         Traceback (most recent call last)",
      "\u001b[0;32m<ipython-input-3-6656b3b0f5bc>\u001b[0m in \u001b[0;36m<module>\u001b[0;34m\u001b[0m\n\u001b[1;32m      1\u001b[0m \u001b[0;31m# experiment for table 4 (left column; rows 1, 3, 6)\u001b[0m\u001b[0;34m\u001b[0m\u001b[0;34m\u001b[0m\u001b[0;34m\u001b[0m\u001b[0m\n\u001b[1;32m      2\u001b[0m \u001b[0mconcept_file\u001b[0m \u001b[0;34m=\u001b[0m \u001b[0;34m'may_treat_cui.txt'\u001b[0m\u001b[0;34m\u001b[0m\u001b[0;34m\u001b[0m\u001b[0m\n\u001b[0;32m----> 3\u001b[0;31m \u001b[0manalyze_semantic_files\u001b[0m\u001b[0;34m(\u001b[0m\u001b[0mfilenames\u001b[0m\u001b[0;34m,\u001b[0m \u001b[0mnum_of_nn\u001b[0m\u001b[0;34m,\u001b[0m \u001b[0mconcept_file\u001b[0m\u001b[0;34m,\u001b[0m \u001b[0mnum_of_cores\u001b[0m\u001b[0;34m)\u001b[0m\u001b[0;34m\u001b[0m\u001b[0;34m\u001b[0m\u001b[0m\n\u001b[0m",
      "\u001b[0;32m~/go/src/github.com/ASAPP-H/embeddings/eval/ndfrt_analysis.py\u001b[0m in \u001b[0;36manalyze_semantic_files\u001b[0;34m(filenames, num_of_nn, concept_file, num_of_cores)\u001b[0m\n\u001b[1;32m    354\u001b[0m \u001b[0;34m\u001b[0m\u001b[0m\n\u001b[1;32m    355\u001b[0m \u001b[0;32mdef\u001b[0m \u001b[0manalyze_semantic_files\u001b[0m\u001b[0;34m(\u001b[0m\u001b[0mfilenames\u001b[0m\u001b[0;34m,\u001b[0m \u001b[0mnum_of_nn\u001b[0m\u001b[0;34m,\u001b[0m \u001b[0mconcept_file\u001b[0m\u001b[0;34m,\u001b[0m \u001b[0mnum_of_cores\u001b[0m\u001b[0;34m)\u001b[0m\u001b[0;34m:\u001b[0m\u001b[0;34m\u001b[0m\u001b[0;34m\u001b[0m\u001b[0m\n\u001b[0;32m--> 356\u001b[0;31m     \u001b[0mfilename_to_embedding_matrices\u001b[0m\u001b[0;34m,\u001b[0m \u001b[0midx_to_cui\u001b[0m\u001b[0;34m,\u001b[0m \u001b[0mcui_to_idx\u001b[0m \u001b[0;34m=\u001b[0m \u001b[0mgenerate_overlapping_sets\u001b[0m\u001b[0;34m(\u001b[0m\u001b[0mfilenames\u001b[0m\u001b[0;34m)\u001b[0m\u001b[0;34m\u001b[0m\u001b[0;34m\u001b[0m\u001b[0m\n\u001b[0m\u001b[1;32m    357\u001b[0m     \u001b[0mprint\u001b[0m\u001b[0;34m(\u001b[0m\u001b[0mlen\u001b[0m\u001b[0;34m(\u001b[0m\u001b[0midx_to_cui\u001b[0m\u001b[0;34m)\u001b[0m\u001b[0;34m)\u001b[0m\u001b[0;34m\u001b[0m\u001b[0;34m\u001b[0m\u001b[0m\n\u001b[1;32m    358\u001b[0m     \u001b[0mquery_to_targets\u001b[0m \u001b[0;34m=\u001b[0m \u001b[0mget_drug_diseases_to_check\u001b[0m\u001b[0;34m(\u001b[0m\u001b[0mconcept_file\u001b[0m\u001b[0;34m,\u001b[0m \u001b[0mcui_to_idx\u001b[0m\u001b[0;34m)\u001b[0m\u001b[0;34m\u001b[0m\u001b[0;34m\u001b[0m\u001b[0m\n",
      "\u001b[0;32m~/go/src/github.com/ASAPP-H/embeddings/eval/ndfrt_analysis.py\u001b[0m in \u001b[0;36mgenerate_overlapping_sets\u001b[0;34m(filenames)\u001b[0m\n\u001b[1;32m     81\u001b[0m \u001b[0;34m\u001b[0m\u001b[0m\n\u001b[1;32m     82\u001b[0m     \u001b[0;32mfor\u001b[0m \u001b[0mfileidx\u001b[0m\u001b[0;34m,\u001b[0m \u001b[0mfilename\u001b[0m \u001b[0;32min\u001b[0m \u001b[0menumerate\u001b[0m\u001b[0;34m(\u001b[0m\u001b[0mfilenames\u001b[0m\u001b[0;34m)\u001b[0m\u001b[0;34m:\u001b[0m\u001b[0;34m\u001b[0m\u001b[0;34m\u001b[0m\u001b[0m\n\u001b[0;32m---> 83\u001b[0;31m         \u001b[0membedding_matrix\u001b[0m\u001b[0;34m,\u001b[0m \u001b[0midx_to_cui\u001b[0m\u001b[0;34m,\u001b[0m \u001b[0mcui_to_idx\u001b[0m \u001b[0;34m=\u001b[0m \u001b[0mread_embedding_matrix\u001b[0m\u001b[0;34m(\u001b[0m\u001b[0mfilename\u001b[0m\u001b[0;34m)\u001b[0m\u001b[0;34m\u001b[0m\u001b[0;34m\u001b[0m\u001b[0m\n\u001b[0m\u001b[1;32m     84\u001b[0m         \u001b[0membedding_idx_cui\u001b[0m\u001b[0;34m[\u001b[0m\u001b[0mfilename\u001b[0m\u001b[0;34m]\u001b[0m \u001b[0;34m=\u001b[0m \u001b[0;34m(\u001b[0m\u001b[0membedding_matrix\u001b[0m\u001b[0;34m,\u001b[0m \u001b[0midx_to_cui\u001b[0m\u001b[0;34m,\u001b[0m \u001b[0mcui_to_idx\u001b[0m\u001b[0;34m)\u001b[0m\u001b[0;34m\u001b[0m\u001b[0;34m\u001b[0m\u001b[0m\n\u001b[1;32m     85\u001b[0m         \u001b[0;32mif\u001b[0m \u001b[0mfileidx\u001b[0m \u001b[0;34m==\u001b[0m \u001b[0;36m0\u001b[0m\u001b[0;34m:\u001b[0m\u001b[0;34m\u001b[0m\u001b[0;34m\u001b[0m\u001b[0m\n",
      "\u001b[0;32m~/go/src/github.com/ASAPP-H/embeddings/eval/ndfrt_analysis.py\u001b[0m in \u001b[0;36mread_embedding_matrix\u001b[0;34m(filename)\u001b[0m\n\u001b[1;32m     51\u001b[0m \u001b[0;32mdef\u001b[0m \u001b[0mread_embedding_matrix\u001b[0m\u001b[0;34m(\u001b[0m\u001b[0mfilename\u001b[0m\u001b[0;34m)\u001b[0m\u001b[0;34m:\u001b[0m\u001b[0;34m\u001b[0m\u001b[0;34m\u001b[0m\u001b[0m\n\u001b[1;32m     52\u001b[0m     \u001b[0mconcept_to_cui\u001b[0m\u001b[0;34m,\u001b[0m \u001b[0mcui_to_concept\u001b[0m \u001b[0;34m=\u001b[0m \u001b[0mget_cui_concept_mappings\u001b[0m\u001b[0;34m(\u001b[0m\u001b[0;34m)\u001b[0m \u001b[0;31m# comment out this after fix input\u001b[0m\u001b[0;34m\u001b[0m\u001b[0;34m\u001b[0m\u001b[0m\n\u001b[0;32m---> 53\u001b[0;31m     \u001b[0;32mwith\u001b[0m \u001b[0mopen\u001b[0m\u001b[0;34m(\u001b[0m\u001b[0mfilename\u001b[0m\u001b[0;34m,\u001b[0m \u001b[0;34m'r'\u001b[0m\u001b[0;34m)\u001b[0m \u001b[0;32mas\u001b[0m \u001b[0minfile\u001b[0m\u001b[0;34m:\u001b[0m\u001b[0;34m\u001b[0m\u001b[0;34m\u001b[0m\u001b[0m\n\u001b[0m\u001b[1;32m     54\u001b[0m         \u001b[0membedding_num\u001b[0m\u001b[0;34m,\u001b[0m \u001b[0mdimension\u001b[0m \u001b[0;34m=\u001b[0m \u001b[0mmap\u001b[0m\u001b[0;34m(\u001b[0m\u001b[0mint\u001b[0m\u001b[0;34m,\u001b[0m \u001b[0minfile\u001b[0m\u001b[0;34m.\u001b[0m\u001b[0mreadline\u001b[0m\u001b[0;34m(\u001b[0m\u001b[0;34m)\u001b[0m\u001b[0;34m.\u001b[0m\u001b[0mstrip\u001b[0m\u001b[0;34m(\u001b[0m\u001b[0;34m)\u001b[0m\u001b[0;34m.\u001b[0m\u001b[0msplit\u001b[0m\u001b[0;34m(\u001b[0m\u001b[0;34m' '\u001b[0m\u001b[0;34m)\u001b[0m\u001b[0;34m)\u001b[0m\u001b[0;34m\u001b[0m\u001b[0;34m\u001b[0m\u001b[0m\n\u001b[1;32m     55\u001b[0m         \u001b[0;31m# -1 for remove </s>\u001b[0m\u001b[0;34m\u001b[0m\u001b[0;34m\u001b[0m\u001b[0;34m\u001b[0m\u001b[0m\n",
      "\u001b[0;31mFileNotFoundError\u001b[0m: [Errno 2] No such file or directory: '../DeVine_etal_200.txt'"
     ]
    }
   ],
   "source": [
    "# experiment for table 4 (left column; rows 1, 3, 6)\n",
    "concept_file = 'may_treat_cui.txt'\n",
    "analyze_semantic_files(filenames, num_of_nn, concept_file, num_of_cores)"
   ]
  },
  {
   "cell_type": "code",
   "execution_count": 4,
   "metadata": {},
   "outputs": [
    {
     "name": "stdout",
     "output_type": "stream",
     "text": [
      "2110\n",
      "70/489 concepts are found in embeddings\n",
      "DeVine_etal_200.txt &  18.57, & 34.47 & 57.14  \\\\\n",
      "claims_cuis_hs_300.txt &  8.57, & 28.02 & 55.71  \\\\\n",
      "stanford_cuis_svd_300.txt &  38.57, & 30.95 & 48.57  \\\\\n"
     ]
    }
   ],
   "source": [
    "# experiment for table 4 (right column; rows 1, 3, 6)\n",
    "concept_file = 'may_prevent_cui.txt'\n",
    "analyze_semantic_files(filenames, num_of_nn, concept_file, num_of_cores)"
   ]
  },
  {
   "cell_type": "code",
   "execution_count": 5,
   "metadata": {},
   "outputs": [
    {
     "name": "stdout",
     "output_type": "stream",
     "text": [
      "[['../DeVine_etal_200.txt', 'cui'], ['../claims_codes_hs_300.txt', 'codes'], ['../stanford_cuis_svd_300.txt', 'cui']]\n"
     ]
    }
   ],
   "source": [
    "filenames_file = 'orig_files_all.txt'\n",
    "filenames = []\n",
    "with open(filenames_file, 'r') as infile:\n",
    "    data= infile.readlines()\n",
    "    for row in data:\n",
    "        filenames.append(row.strip().split(','))\n",
    "print filenames"
   ]
  },
  {
   "cell_type": "code",
   "execution_count": 6,
   "metadata": {},
   "outputs": [
    {
     "name": "stdout",
     "output_type": "stream",
     "text": [
      "1537\n",
      "1482\n",
      "1482\n",
      "1537\n",
      "1442\n",
      "1442\n",
      "DeVine_etal_200.txt & 22.63 & 24.56 \\\\\n",
      "claims_codes_hs_300.txt & 44.80 & 47.43 \\\\\n",
      "stanford_cuis_svd_300.txt & 34.16 & 37.31 \\\\\n"
     ]
    }
   ],
   "source": [
    "# experiment for table 5 (rows 1, 3, 6)\n",
    "filename_to_print, finegrain_ndcgs = get_css_analysis(filenames, num_of_nn, 'f')\n",
    "filename_to_print, coarsegrain_ndcgs = get_css_analysis(filenames, num_of_nn, 'c')\n",
    "for name, finegrain, coarsegrain in zip(filename_to_print, finegrain_ndcgs, coarsegrain_ndcgs):\n",
    "    print '%s & %.2f & %.2f \\\\\\\\' %(name.split('/')[-1], finegrain*100, coarsegrain*100) "
   ]
  }
 ],
 "metadata": {
  "kernelspec": {
   "display_name": "Python 3",
   "language": "python",
   "name": "python3"
  },
  "language_info": {
   "codemirror_mode": {
    "name": "ipython",
    "version": 3
   },
   "file_extension": ".py",
   "mimetype": "text/x-python",
   "name": "python",
   "nbconvert_exporter": "python",
   "pygments_lexer": "ipython3",
   "version": "3.7.1"
  }
 },
 "nbformat": 4,
 "nbformat_minor": 1
}
