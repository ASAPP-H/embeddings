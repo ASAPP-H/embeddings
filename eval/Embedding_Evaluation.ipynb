{
 "cells": [
  {
   "cell_type": "code",
   "execution_count": 5,
   "metadata": {},
   "outputs": [
    {
     "data": {
      "application/vnd.jupyter.widget-view+json": {
       "model_id": "7e5faa65cc114dc58a08e54f854df971",
       "version_major": 2,
       "version_minor": 0
      },
      "text/plain": [
       "HBox(children=(IntProgress(value=1, bar_style='info', max=1), HTML(value='')))"
      ]
     },
     "metadata": {},
     "output_type": "display_data"
    },
    {
     "name": "stdout",
     "output_type": "stream",
     "text": [
      "\n"
     ]
    }
   ],
   "source": [
    "# load concept id to cui mapping\n",
    "import csv\n",
    "from tqdm import tqdm_notebook\n",
    "conc2cui = {line.split()[0]:line.split()[1] for line in tqdm_notebook(open('2b_concept_ID_to_CUI.txt'))}"
   ]
  },
  {
   "cell_type": "code",
   "execution_count": 6,
   "metadata": {},
   "outputs": [
    {
     "data": {
      "application/vnd.jupyter.widget-view+json": {
       "model_id": "e299e2b4343c4628b52f3465858bca7c",
       "version_major": 2,
       "version_minor": 0
      },
      "text/plain": [
       "HBox(children=(IntProgress(value=1, bar_style='info', max=1), HTML(value='')))"
      ]
     },
     "metadata": {},
     "output_type": "display_data"
    },
    {
     "name": "stdout",
     "output_type": "stream",
     "text": [
      "\n"
     ]
    }
   ],
   "source": [
    "# translate stanford concept id's\n",
    "with open('../stanford_cuis_svd_300.txt') as f:\n",
    "    with open('../stanford_cuis_trans_svd_300.txt', 'w') as of:\n",
    "        #header\n",
    "        header = next(f)\n",
    "        of.write(header)\n",
    "        for line in tqdm_notebook(f):\n",
    "            data = line.split()\n",
    "            code = conc2cui[data[0]]\n",
    "            vec = data[1:]\n",
    "            of.write(' '.join([code, *vec]) + \"\\n\")"
   ]
  },
  {
   "cell_type": "markdown",
   "metadata": {},
   "source": [
    "This workbook reproduces the results of Tables 4 and 5 of the paper:\n",
    "\n",
    "<b> Y. Choi, Y. Chiu, D. Sontag. <a href=\"http://cs.nyu.edu/~dsontag/papers/ChoiChiuSontag_AMIA_CRI16.pdf\">Learning Low-Dimensional Representations of Medical Concepts</a>. To appear in Proceedings of the AMIA Summit on Clinical Research Informatics (CRI), 2016.</b>\n",
    "\n",
    "Note that the numbers will be slightly different because the embeddings evaluated here are a subset of the original embeddings, so the intersection of the concepts is slightly larger."
   ]
  },
  {
   "cell_type": "code",
   "execution_count": 1,
   "metadata": {},
   "outputs": [],
   "source": [
    "# do from the raw process to the result\n",
    "# fully documenting the result\n",
    "\n",
    "from ndfrt_analysis import *\n",
    "from codes_analysis import *"
   ]
  },
  {
   "cell_type": "code",
   "execution_count": 2,
   "metadata": {},
   "outputs": [],
   "source": [
    "filenames_file = 'files_to_process.txt'\n",
    "num_of_nn = 40\n",
    "num_of_cores = 4\n",
    "filenames = []\n",
    "with open(filenames_file, 'r') as infile:\n",
    "    data = infile.readlines()\n",
    "    for row in data:\n",
    "        filenames.append(row.strip())"
   ]
  },
  {
   "cell_type": "code",
   "execution_count": null,
   "metadata": {},
   "outputs": [
    {
     "name": "stdout",
     "output_type": "stream",
     "text": [
      "2110\n",
      "436/1480 concepts are found in embeddings\n",
      "DeVine_etal_200.txt &  12.16, 31\n"
     ]
    },
    {
     "name": "stderr",
     "output_type": "stream",
     "text": [
      "Process Process-1:\n",
      "Process Process-2:\n",
      "Process Process-3:\n",
      "Process Process-4:\n",
      "Traceback (most recent call last):\n",
      "  File \"/anaconda3/lib/python3.7/multiprocessing/process.py\", line 297, in _bootstrap\n",
      "    self.run()\n",
      "  File \"/anaconda3/lib/python3.7/multiprocessing/process.py\", line 99, in run\n",
      "    self._target(*self._args, **self._kwargs)\n",
      "  File \"/Users/jamesmullenbach/go/src/github.com/ASAPP-H/embeddings/eval/ndfrt_analysis.py\", line 346, in analyze_semantic_files_child\n",
      "    num_of_nn)\n",
      "  File \"/Users/jamesmullenbach/go/src/github.com/ASAPP-H/embeddings/eval/ndfrt_analysis.py\", line 213, in get_all_target_analogies\n",
      "    vectors = ref_vecs + embedding_matrix[np.array(query_to_targets.keys()), :]\n",
      "IndexError: arrays used as indices must be of integer (or boolean) type\n",
      "Traceback (most recent call last):\n",
      "  File \"/anaconda3/lib/python3.7/multiprocessing/process.py\", line 297, in _bootstrap\n",
      "    self.run()\n",
      "  File \"/anaconda3/lib/python3.7/multiprocessing/process.py\", line 99, in run\n",
      "    self._target(*self._args, **self._kwargs)\n",
      "Traceback (most recent call last):\n",
      "  File \"/Users/jamesmullenbach/go/src/github.com/ASAPP-H/embeddings/eval/ndfrt_analysis.py\", line 346, in analyze_semantic_files_child\n",
      "    num_of_nn)\n",
      "  File \"/anaconda3/lib/python3.7/multiprocessing/process.py\", line 297, in _bootstrap\n",
      "    self.run()\n",
      "Traceback (most recent call last):\n",
      "  File \"/Users/jamesmullenbach/go/src/github.com/ASAPP-H/embeddings/eval/ndfrt_analysis.py\", line 213, in get_all_target_analogies\n",
      "    vectors = ref_vecs + embedding_matrix[np.array(query_to_targets.keys()), :]\n",
      "  File \"/anaconda3/lib/python3.7/multiprocessing/process.py\", line 99, in run\n",
      "    self._target(*self._args, **self._kwargs)\n",
      "  File \"/anaconda3/lib/python3.7/multiprocessing/process.py\", line 297, in _bootstrap\n",
      "    self.run()\n",
      "  File \"/Users/jamesmullenbach/go/src/github.com/ASAPP-H/embeddings/eval/ndfrt_analysis.py\", line 346, in analyze_semantic_files_child\n",
      "    num_of_nn)\n",
      "IndexError: arrays used as indices must be of integer (or boolean) type\n",
      "  File \"/Users/jamesmullenbach/go/src/github.com/ASAPP-H/embeddings/eval/ndfrt_analysis.py\", line 213, in get_all_target_analogies\n",
      "    vectors = ref_vecs + embedding_matrix[np.array(query_to_targets.keys()), :]\n",
      "  File \"/anaconda3/lib/python3.7/multiprocessing/process.py\", line 99, in run\n",
      "    self._target(*self._args, **self._kwargs)\n",
      "IndexError: arrays used as indices must be of integer (or boolean) type\n",
      "  File \"/Users/jamesmullenbach/go/src/github.com/ASAPP-H/embeddings/eval/ndfrt_analysis.py\", line 346, in analyze_semantic_files_child\n",
      "    num_of_nn)\n",
      "  File \"/Users/jamesmullenbach/go/src/github.com/ASAPP-H/embeddings/eval/ndfrt_analysis.py\", line 213, in get_all_target_analogies\n",
      "    vectors = ref_vecs + embedding_matrix[np.array(query_to_targets.keys()), :]\n",
      "IndexError: arrays used as indices must be of integer (or boolean) type\n"
     ]
    }
   ],
   "source": [
    "# experiment for table 4 (left column; rows 1, 3, 6)\n",
    "concept_file = 'may_treat_cui.txt'\n",
    "analyze_semantic_files(filenames, num_of_nn, concept_file, num_of_cores)"
   ]
  },
  {
   "cell_type": "code",
   "execution_count": 9,
   "metadata": {},
   "outputs": [],
   "source": [
    "x = set([1, 2, 3])"
   ]
  },
  {
   "cell_type": "code",
   "execution_count": 5,
   "metadata": {},
   "outputs": [],
   "source": [
    "y = set([3, 4, 5])"
   ]
  },
  {
   "cell_type": "code",
   "execution_count": 10,
   "metadata": {},
   "outputs": [],
   "source": [
    "x.intersection_update(y)"
   ]
  },
  {
   "cell_type": "code",
   "execution_count": 11,
   "metadata": {},
   "outputs": [
    {
     "data": {
      "text/plain": [
       "{3}"
      ]
     },
     "execution_count": 11,
     "metadata": {},
     "output_type": "execute_result"
    }
   ],
   "source": [
    "x"
   ]
  },
  {
   "cell_type": "code",
   "execution_count": 4,
   "metadata": {},
   "outputs": [
    {
     "name": "stdout",
     "output_type": "stream",
     "text": [
      "2110\n",
      "70/489 concepts are found in embeddings\n",
      "DeVine_etal_200.txt &  18.57, & 34.47 & 57.14  \\\\\n",
      "claims_cuis_hs_300.txt &  8.57, & 28.02 & 55.71  \\\\\n",
      "stanford_cuis_svd_300.txt &  38.57, & 30.95 & 48.57  \\\\\n"
     ]
    }
   ],
   "source": [
    "# experiment for table 4 (right column; rows 1, 3, 6)\n",
    "concept_file = 'may_prevent_cui.txt'\n",
    "analyze_semantic_files(filenames, num_of_nn, concept_file, num_of_cores)"
   ]
  },
  {
   "cell_type": "code",
   "execution_count": 5,
   "metadata": {},
   "outputs": [
    {
     "name": "stdout",
     "output_type": "stream",
     "text": [
      "[['../DeVine_etal_200.txt', 'cui'], ['../claims_codes_hs_300.txt', 'codes'], ['../stanford_cuis_svd_300.txt', 'cui']]\n"
     ]
    }
   ],
   "source": [
    "filenames_file = 'orig_files_all.txt'\n",
    "filenames = []\n",
    "with open(filenames_file, 'r') as infile:\n",
    "    data= infile.readlines()\n",
    "    for row in data:\n",
    "        filenames.append(row.strip().split(','))\n",
    "print filenames"
   ]
  },
  {
   "cell_type": "code",
   "execution_count": 6,
   "metadata": {},
   "outputs": [
    {
     "name": "stdout",
     "output_type": "stream",
     "text": [
      "1537\n",
      "1482\n",
      "1482\n",
      "1537\n",
      "1442\n",
      "1442\n",
      "DeVine_etal_200.txt & 22.63 & 24.56 \\\\\n",
      "claims_codes_hs_300.txt & 44.80 & 47.43 \\\\\n",
      "stanford_cuis_svd_300.txt & 34.16 & 37.31 \\\\\n"
     ]
    }
   ],
   "source": [
    "# experiment for table 5 (rows 1, 3, 6)\n",
    "filename_to_print, finegrain_ndcgs = get_css_analysis(filenames, num_of_nn, 'f')\n",
    "filename_to_print, coarsegrain_ndcgs = get_css_analysis(filenames, num_of_nn, 'c')\n",
    "for name, finegrain, coarsegrain in zip(filename_to_print, finegrain_ndcgs, coarsegrain_ndcgs):\n",
    "    print '%s & %.2f & %.2f \\\\\\\\' %(name.split('/')[-1], finegrain*100, coarsegrain*100) "
   ]
  }
 ],
 "metadata": {
  "kernelspec": {
   "display_name": "Python 3",
   "language": "python",
   "name": "python3"
  },
  "language_info": {
   "codemirror_mode": {
    "name": "ipython",
    "version": 3
   },
   "file_extension": ".py",
   "mimetype": "text/x-python",
   "name": "python",
   "nbconvert_exporter": "python",
   "pygments_lexer": "ipython3",
   "version": "3.7.1"
  }
 },
 "nbformat": 4,
 "nbformat_minor": 1
}
